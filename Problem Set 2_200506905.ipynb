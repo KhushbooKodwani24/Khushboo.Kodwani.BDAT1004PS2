{
 "cells": [
  {
   "cell_type": "code",
   "execution_count": null,
   "id": "883c49c1",
   "metadata": {},
   "outputs": [],
   "source": [
    "# Problem Set 2\n",
    "#--------------------------------------------- Question 1------------------------------------------------\n",
    "Consider the following Python module:\n",
    "a = 0\n",
    "def b():\n",
    " global a\n",
    " a = c(a)\n",
    "def c(a):\n",
    " return a + 2\n",
    "After importing the module into the interpreter, you execute:\n",
    ">>> b()\n",
    ">>> b()\n",
    ">>> b()\n",
    ">>> a\n",
    "?\n",
    "What value is displayed when the last expression (a) is evaluated? Explain your\n",
    "answer by indicating what happens in every executed statement."
   ]
  },
  {
   "cell_type": "code",
   "execution_count": 1,
   "id": "71a98ace",
   "metadata": {},
   "outputs": [],
   "source": [
    "a = 0\n",
    "def b():\n",
    " global a\n",
    " a = c(a)\n",
    "def c(a):\n",
    " return a + 2"
   ]
  },
  {
   "cell_type": "code",
   "execution_count": 2,
   "id": "1f17ea2a",
   "metadata": {},
   "outputs": [],
   "source": [
    "b()"
   ]
  },
  {
   "cell_type": "code",
   "execution_count": 3,
   "id": "4dd3ab31",
   "metadata": {},
   "outputs": [],
   "source": [
    "b()"
   ]
  },
  {
   "cell_type": "code",
   "execution_count": 4,
   "id": "c8c5464b",
   "metadata": {},
   "outputs": [],
   "source": [
    "b()"
   ]
  },
  {
   "cell_type": "code",
   "execution_count": 5,
   "id": "2dda0864",
   "metadata": {},
   "outputs": [
    {
     "data": {
      "text/plain": [
       "6"
      ]
     },
     "execution_count": 5,
     "metadata": {},
     "output_type": "execute_result"
    }
   ],
   "source": [
    "a"
   ]
  },
  {
   "cell_type": "code",
   "execution_count": null,
   "id": "4bf0b594",
   "metadata": {},
   "outputs": [],
   "source": [
    "Answer: When the last expression (a) is evaluated, the value we get is 6. \n",
    "        We have first defined the value to a to 0.\n",
    "        In the very first step we call function b(), wherein a is defined as global variable.\n",
    "        The value of a is calculated by called function c(a), which return the value of a as a = 0 + 2 = 2.\n",
    "        Thus we get the answer of first b() as 2. \n",
    "        Again, if we call function b() twice, it value gets doubled as a = 2 + 2 = 4.\n",
    "        Calling function b() thrice, its value becomes a = 4 + 2 = 6.\n",
    "        Finally, printing the value of a gives output as 6.   "
   ]
  },
  {
   "cell_type": "code",
   "execution_count": null,
   "id": "00189910",
   "metadata": {},
   "outputs": [],
   "source": [
    "# ----------------------------------------------Question 2---------------------------------------------------------\n",
    "Function fileLength(), given to you, takes the name of a file as input and returns\n",
    "the length of the file:\n",
    ">>> fileLength('midterm.py')\n",
    "284\n",
    ">>> fileLength('idterm.py')\n",
    "Traceback (most recent call last):\n",
    "File \"<pyshell#34>\", line 1, in <module>\n",
    " fileLength('idterm.py')\n",
    "File \"/Users/me/midterm.py\", line 3, in fileLength\n",
    " infile = open(filename)\n",
    "FileNotFoundError: [Errno 2] No such file or directory:\n",
    "'idterm.py'\n",
    "As shown above, if the file cannot be found by the interpreter or if it cannot be read\n",
    "as a text file, an exception will be raised. Modify function fileLength() so that a\n",
    "friendly message is printed instead:\n",
    ">>> fileLength('midterm.py')\n",
    "358\n",
    ">>> fileLength('idterm.py')\n",
    "File idterm.py not found."
   ]
  },
  {
   "cell_type": "code",
   "execution_count": 23,
   "id": "b1cd410b",
   "metadata": {},
   "outputs": [],
   "source": [
    "def fileLength(file_name):\n",
    "    try:\n",
    "        file = open(file_name)\n",
    "        contents = file.read()\n",
    "        file.close()\n",
    "        print(len(contents))\n",
    "    except FileNotFoundError as e:\n",
    "        print(\"File \" + file_name + \" not found.\")"
   ]
  },
  {
   "cell_type": "code",
   "execution_count": 21,
   "id": "50e47199",
   "metadata": {},
   "outputs": [
    {
     "name": "stdout",
     "output_type": "stream",
     "text": [
      "396\n"
     ]
    }
   ],
   "source": [
    "fileLength('w3c.txt')"
   ]
  },
  {
   "cell_type": "code",
   "execution_count": 24,
   "id": "f8baacaa",
   "metadata": {},
   "outputs": [
    {
     "name": "stdout",
     "output_type": "stream",
     "text": [
      "File 3c.txt not found.\n"
     ]
    }
   ],
   "source": [
    "fileLength('3c.txt')"
   ]
  },
  {
   "cell_type": "code",
   "execution_count": null,
   "id": "89df6b03",
   "metadata": {},
   "outputs": [],
   "source": [
    "# ---------------------------------------------------- Question 3----------------------------------------------------\n",
    "Write a class named Marsupial that can be used as shown below:\n",
    ">>> m = Marsupial()\n",
    ">>> m.put_in_pouch('doll')\n",
    ">>> m.put_in_pouch('firetruck')\n",
    ">>> m.put_in_pouch('kitten')\n",
    ">>> m.pouch_contents()\n",
    "['doll', 'firetruck', 'kitten']\n",
    "Now write a class named Kangaroo as a subclass of Marsupial that inherits all the\n",
    "attributes of Marsupial and also:\n",
    "a. extends the Marsupial __init__ constructor to take, as input, the\n",
    "coordinates x and y of the Kangaroo object,\n",
    "b. supports method jump that takes number values dx and dy as input and\n",
    "moves the kangaroo by dx units along the x-axis and by dy units along the yaxis, and\n",
    "c. overloads the __str__ operator so it behaves as shown below.\n",
    ">>> k = Kangaroo(0,0)\n",
    ">>> print(k)\n",
    "I am a Kangaroo located at coordinates (0,0)\n",
    ">>> k.put_in_pouch('doll')\n",
    ">>> k.put_in_pouch('firetruck')\n",
    ">>> k.put_in_pouch('kitten')\n",
    ">>> k.pouch_contents()\n",
    "['doll', 'firetruck', 'kitten']\n",
    ">>> k.jump(1,0)\n",
    ">>> k.jump(1,0)\n",
    ">>> k.jump(1,0)\n",
    ">>> print(k)\n",
    "I am a Kangaroo located at coordinates (3,0)"
   ]
  },
  {
   "cell_type": "code",
   "execution_count": 25,
   "id": "f080914d",
   "metadata": {},
   "outputs": [],
   "source": [
    "class Marsupial:\n",
    "    def __init__(self):\n",
    "        self.pouch=[]\n",
    "    def put_in_pouch(self,item):\n",
    "        return self.pouch.append(item)\n",
    "    def pouch_contents(self):\n",
    "        return self.pouch"
   ]
  },
  {
   "cell_type": "code",
   "execution_count": 26,
   "id": "c2dd4b7b",
   "metadata": {},
   "outputs": [],
   "source": [
    "m = Marsupial()"
   ]
  },
  {
   "cell_type": "code",
   "execution_count": 27,
   "id": "1c09c1c7",
   "metadata": {},
   "outputs": [],
   "source": [
    "m.put_in_pouch('doll')"
   ]
  },
  {
   "cell_type": "code",
   "execution_count": 28,
   "id": "a101bebe",
   "metadata": {},
   "outputs": [],
   "source": [
    "m.put_in_pouch('firetruck')"
   ]
  },
  {
   "cell_type": "code",
   "execution_count": 29,
   "id": "971c6164",
   "metadata": {},
   "outputs": [],
   "source": [
    "m.put_in_pouch('kitten')"
   ]
  },
  {
   "cell_type": "code",
   "execution_count": 30,
   "id": "41cfd430",
   "metadata": {},
   "outputs": [
    {
     "data": {
      "text/plain": [
       "['doll', 'firetruck', 'kitten']"
      ]
     },
     "execution_count": 30,
     "metadata": {},
     "output_type": "execute_result"
    }
   ],
   "source": [
    "m.pouch_contents()"
   ]
  },
  {
   "cell_type": "code",
   "execution_count": 31,
   "id": "fcf6e706",
   "metadata": {},
   "outputs": [],
   "source": [
    "class Kangaroo(Marsupial):\n",
    "    def __init__(self,x,y):\n",
    "        Marsupial.__init__(self)\n",
    "        self.x = x\n",
    "        self.y = y\n",
    "    def jump(self,dx,dy):\n",
    "        self.x +=dx\n",
    "        self.y +=dy\n",
    "    def __str__(self):\n",
    "        return 'I am a Kangaroo located at coordinates ({},{})'.format(self.x,self.y)\n",
    "    "
   ]
  },
  {
   "cell_type": "code",
   "execution_count": 32,
   "id": "29a54625",
   "metadata": {},
   "outputs": [],
   "source": [
    " k = Kangaroo(0,0)"
   ]
  },
  {
   "cell_type": "code",
   "execution_count": 33,
   "id": "a62b2c97",
   "metadata": {},
   "outputs": [
    {
     "name": "stdout",
     "output_type": "stream",
     "text": [
      "I am a Kangaroo located at coordinates (0,0)\n"
     ]
    }
   ],
   "source": [
    " print(k)"
   ]
  },
  {
   "cell_type": "code",
   "execution_count": 34,
   "id": "98a2fb85",
   "metadata": {},
   "outputs": [],
   "source": [
    " k.put_in_pouch('doll')"
   ]
  },
  {
   "cell_type": "code",
   "execution_count": 35,
   "id": "c705767c",
   "metadata": {},
   "outputs": [],
   "source": [
    "k.put_in_pouch('firetruck')"
   ]
  },
  {
   "cell_type": "code",
   "execution_count": 36,
   "id": "2790891c",
   "metadata": {},
   "outputs": [],
   "source": [
    " k.put_in_pouch('kitten')"
   ]
  },
  {
   "cell_type": "code",
   "execution_count": 37,
   "id": "4c6f08c5",
   "metadata": {},
   "outputs": [
    {
     "data": {
      "text/plain": [
       "['doll', 'firetruck', 'kitten']"
      ]
     },
     "execution_count": 37,
     "metadata": {},
     "output_type": "execute_result"
    }
   ],
   "source": [
    "k.pouch_contents()"
   ]
  },
  {
   "cell_type": "code",
   "execution_count": 38,
   "id": "5cbded78",
   "metadata": {},
   "outputs": [],
   "source": [
    " k.jump(1,0)"
   ]
  },
  {
   "cell_type": "code",
   "execution_count": 39,
   "id": "9509d9d3",
   "metadata": {},
   "outputs": [],
   "source": [
    " k.jump(1,0)"
   ]
  },
  {
   "cell_type": "code",
   "execution_count": 40,
   "id": "4a65ffaa",
   "metadata": {},
   "outputs": [],
   "source": [
    " k.jump(1,0)"
   ]
  },
  {
   "cell_type": "code",
   "execution_count": 41,
   "id": "7e34cba6",
   "metadata": {},
   "outputs": [
    {
     "name": "stdout",
     "output_type": "stream",
     "text": [
      "I am a Kangaroo located at coordinates (3,0)\n"
     ]
    }
   ],
   "source": [
    " print(k)"
   ]
  },
  {
   "cell_type": "code",
   "execution_count": null,
   "id": "710b952c",
   "metadata": {},
   "outputs": [],
   "source": [
    "# ------------------------------------------------Question 4----------------------------------------------------------\n",
    "Write function collatz() that takes a positive integer x as input and prints the\n",
    "Collatz sequence starting at x. A Collatz sequence is obtained by repeatedly applying\n",
    "this rule to the previous number x in the sequence:\n",
    "x = {\n",
    "𝑥/2 𝑖𝑓 𝑥 𝑖𝑠 𝑒𝑣𝑒𝑛\n",
    "3𝑥 + 1 𝑖𝑓 𝑥 𝑖𝑠 𝑜𝑑𝑑\n",
    "Your function should stop when the sequence gets to number 1. Your\n",
    "implementation must be recursive, without any loops.\n",
    ">>> collatz(1)\n",
    "1\n",
    ">>> collatz(10)\n",
    "10\n",
    "5\n",
    "16\n",
    "8\n",
    "4\n",
    "2\n",
    "1\n"
   ]
  },
  {
   "cell_type": "code",
   "execution_count": 87,
   "id": "ef032762",
   "metadata": {},
   "outputs": [],
   "source": [
    "def collatz(num):\n",
    "    print(num)\n",
    "    if num % 2 == 0:\n",
    "        return collatz(num // 2)\n",
    "    elif num > 1:\n",
    "        return collatz(3 * num + 1)"
   ]
  },
  {
   "cell_type": "code",
   "execution_count": 88,
   "id": "aad292d3",
   "metadata": {},
   "outputs": [
    {
     "name": "stdout",
     "output_type": "stream",
     "text": [
      "10\n",
      "5\n",
      "16\n",
      "8\n",
      "4\n",
      "2\n",
      "1\n"
     ]
    }
   ],
   "source": [
    "collatz(10)"
   ]
  },
  {
   "cell_type": "code",
   "execution_count": 89,
   "id": "9156c18f",
   "metadata": {},
   "outputs": [
    {
     "name": "stdout",
     "output_type": "stream",
     "text": [
      "1\n"
     ]
    }
   ],
   "source": [
    "collatz(1)"
   ]
  },
  {
   "cell_type": "code",
   "execution_count": null,
   "id": "963ed156",
   "metadata": {},
   "outputs": [],
   "source": [
    "# ----------------------------------------------------Question 5---------------------------------------------------\n",
    "Write a recursive method binary() that takes a non-negative\n",
    "integer n and prints the binary representation of integer n.\n",
    ">>> binary(0)\n",
    "0\n",
    ">>> binary(1)\n",
    "1\n",
    ">>> binary(3)\n",
    "11\n",
    ">>> binary(9)\n",
    "1001"
   ]
  },
  {
   "cell_type": "code",
   "execution_count": 122,
   "id": "44eb7f23",
   "metadata": {},
   "outputs": [],
   "source": [
    "def binary(n):\n",
    "    if n > 1:\n",
    "        binary(n//2)\n",
    "    print(n % 2,end = '')"
   ]
  },
  {
   "cell_type": "code",
   "execution_count": 123,
   "id": "11fc1305",
   "metadata": {},
   "outputs": [
    {
     "name": "stdout",
     "output_type": "stream",
     "text": [
      "0"
     ]
    }
   ],
   "source": [
    "binary(0)"
   ]
  },
  {
   "cell_type": "code",
   "execution_count": 124,
   "id": "7af1abcc",
   "metadata": {},
   "outputs": [
    {
     "name": "stdout",
     "output_type": "stream",
     "text": [
      "1"
     ]
    }
   ],
   "source": [
    "binary(1)"
   ]
  },
  {
   "cell_type": "code",
   "execution_count": 125,
   "id": "4fe07b6f",
   "metadata": {},
   "outputs": [
    {
     "name": "stdout",
     "output_type": "stream",
     "text": [
      "11"
     ]
    }
   ],
   "source": [
    "binary(3)"
   ]
  },
  {
   "cell_type": "code",
   "execution_count": 126,
   "id": "66ecaf9f",
   "metadata": {},
   "outputs": [
    {
     "name": "stdout",
     "output_type": "stream",
     "text": [
      "1001"
     ]
    }
   ],
   "source": [
    "binary(9)"
   ]
  },
  {
   "cell_type": "code",
   "execution_count": null,
   "id": "db8535f9",
   "metadata": {},
   "outputs": [],
   "source": [
    "# ---------------------------------------------------Question 6 -------------------------------------------------\n",
    "Implement a class named HeadingParser that can be used to parse an HTML\n",
    "document, and retrieve and print all the headings in the document. You should\n",
    "implement your class as a subclass of HTMLParser, defined in Standard Library\n",
    "module html.parser. When fed a string containing HTML code, your class should\n",
    "print the headings, one per line and in the order in which they appear in the\n",
    "document. Each heading should be indented as follows: an h1 heading should have\n",
    "indentation 0, and h2 heading should have indentation 1, etc. Test your\n",
    "implementation using w3c.html.\n",
    ">>> infile = open('w3c.html')\n",
    ">>> content = infile.read()\n",
    ">>> infile.close()\n",
    ">>> hp = HeadingParser()\n",
    ">>> hp.feed(content)\n",
    "W3C Mission\n",
    "Principles\n"
   ]
  },
  {
   "cell_type": "code",
   "execution_count": 278,
   "id": "89c61594",
   "metadata": {},
   "outputs": [],
   "source": [
    "from html.parser import HTMLParser\n",
    "class HeadingParser(HTMLParser):\n",
    "    inHeading = False\n",
    "    def handle_starttag(self, tag, attrs):\n",
    "        if tag == \"h1\":\n",
    "            self.inHeading = True\n",
    "        if tag == \"h2\":\n",
    "            self.inHeading = True\n",
    "        if tag == \"h3\":\n",
    "            self.inHeading = True\n",
    "        if tag == \"h4\":\n",
    "            self.inHeading = True\n",
    "        if tag == \"h5\":\n",
    "            self.inHeading = True\n",
    "        if tag == \"h6\":\n",
    "            self.inHeading = True\n",
    "    def handle_data(self, data):\n",
    "        if self.inHeading:\n",
    "            print(\" \" + data)\n",
    "    def handle_endtag(self, tag):\n",
    "        if tag ==\"h1\":\n",
    "            self.inHeading = False\n",
    "        if tag ==\"h2\":\n",
    "            self.inHeading = False\n",
    "        if tag == \"h3\":\n",
    "            self.inHeading = False\n",
    "        if tag == \"h4\":\n",
    "            self.inHeading = False\n",
    "        if tag == \"h5\":\n",
    "            self.inHeading = False\n",
    "        if tag == \"h6\":\n",
    "            self.inHeading = False"
   ]
  },
  {
   "cell_type": "code",
   "execution_count": 279,
   "id": "d5ba471a",
   "metadata": {},
   "outputs": [
    {
     "name": "stdout",
     "output_type": "stream",
     "text": [
      " W3C Mission\n",
      " Principles\n"
     ]
    }
   ],
   "source": [
    "infile = open('w3c.html')\n",
    "content = infile.read()\n",
    "infile.close()\n",
    "hp = HeadingParser()\n",
    "hp.feed(content)"
   ]
  },
  {
   "cell_type": "code",
   "execution_count": null,
   "id": "7d21435c",
   "metadata": {},
   "outputs": [],
   "source": [
    "# -----------------------------------------------Question 7--------------------------------------------------\n",
    "Implement recursive function webdir() that takes as input: a URL (as a string) and\n",
    "non-negative integers depth and indent. Your function should visit every web\n",
    "page reachable from the starting URL web page in depth clicks or less, and print\n",
    "each web page's URL. As shown below, indentation, specified by indent, should\n",
    "be used to indicate the depth of a URL.\n",
    ">>>\n",
    "webdir('http://reed.cs.depaul.edu/lperkovic/csc242/test1.html'\n",
    ", 2, 0)\n",
    "http://reed.cs.depaul.edu/lperkovic/csc242/test1.html\n",
    " http://reed.cs.depaul.edu/lperkovic/csc242/test2.html\n",
    " http://reed.cs.depaul.edu/lperkovic/csc242/test4.html\n",
    " http://reed.cs.depaul.edu/lperkovic/csc242/test3.html\n",
    " http://reed.cs.depaul.edu/lperkovic/csc242/test4.html"
   ]
  },
  {
   "cell_type": "code",
   "execution_count": 280,
   "id": "530b5bf3",
   "metadata": {},
   "outputs": [],
   "source": [
    "visited = set() \n",
    "\n",
    "def webdir(url):\n",
    "   \n",
    "    global visited     \n",
    "    visited.add(url)\n",
    "\n",
    "    links = analyze(url)\n",
    "\n",
    "    for link in links:\n",
    "        if link not in visited:\n",
    "            try:\n",
    "                webdir(link)\n",
    "            except:\n",
    "                pass"
   ]
  },
  {
   "cell_type": "code",
   "execution_count": 281,
   "id": "75bab4b6",
   "metadata": {},
   "outputs": [],
   "source": [
    "from urllib.request import urlopen\n",
    "from urllib.parse import urljoin\n",
    "\n",
    "from html.parser import HTMLParser\n",
    "\n",
    "def analyze(url):\n",
    "    \n",
    "    content = urlopen(url).read().decode()\n",
    "    collector = Collector(url)\n",
    "    collector.feed(content)\n",
    "    urls = collector.getLinks()         \n",
    "\n",
    "    for link in urls:\n",
    "        print(url)\n",
    "        print(link)\n",
    "\n",
    "    return urls"
   ]
  },
  {
   "cell_type": "code",
   "execution_count": 282,
   "id": "c63b5bfe",
   "metadata": {},
   "outputs": [
    {
     "name": "stdout",
     "output_type": "stream",
     "text": [
      "http://reed.cs.depaul.edu/lperkovic/one.html\n",
      "http://reed.cs.depaul.edu/lperkovic/two.html\n",
      "http://reed.cs.depaul.edu/lperkovic/one.html\n",
      "http://reed.cs.depaul.edu/lperkovic/three.html\n",
      "http://reed.cs.depaul.edu/lperkovic/two.html\n",
      "http://reed.cs.depaul.edu/lperkovic/four.html\n",
      "http://reed.cs.depaul.edu/lperkovic/four.html\n",
      "http://reed.cs.depaul.edu/lperkovic/five.html\n",
      "http://reed.cs.depaul.edu/lperkovic/five.html\n",
      "http://reed.cs.depaul.edu/lperkovic/four.html\n",
      "http://reed.cs.depaul.edu/lperkovic/five.html\n",
      "http://reed.cs.depaul.edu/lperkovic/one.html\n",
      "http://reed.cs.depaul.edu/lperkovic/five.html\n",
      "http://reed.cs.depaul.edu/lperkovic/two.html\n",
      "http://reed.cs.depaul.edu/lperkovic/three.html\n",
      "http://reed.cs.depaul.edu/lperkovic/four.html\n"
     ]
    }
   ],
   "source": [
    "webdir('http://reed.cs.depaul.edu/lperkovic/one.html')\n"
   ]
  },
  {
   "cell_type": "code",
   "execution_count": null,
   "id": "78c8ddee",
   "metadata": {},
   "outputs": [],
   "source": [
    "# ------------------------------------------------Question 8--------------------------------------------------\n",
    "Write SQL queries on the below database table that return:\n",
    "a) All the temperature data.\n",
    "b) All the cities, but without repetition.\n",
    "c) All the records for India.\n",
    "d) All the Fall records.\n",
    "e) The city, country, and season for which the average rainfall is between 200\n",
    "and 400 millimeters.\n",
    "f) The city and country for which the average Fall temperature is above 20\n",
    "degrees, in increasing temperature order.\n",
    "g) The total annual rainfall for Cairo.\n",
    "h) The total rainfall for each season"
   ]
  },
  {
   "cell_type": "code",
   "execution_count": 166,
   "id": "f6eb7c2a",
   "metadata": {},
   "outputs": [
    {
     "name": "stdout",
     "output_type": "stream",
     "text": [
      "Requirement already satisfied: ipython-sql in c:\\users\\khushboo kodwani\\anaconda3\\lib\\site-packages (0.4.0)\n",
      "Requirement already satisfied: prettytable<1 in c:\\users\\khushboo kodwani\\anaconda3\\lib\\site-packages (from ipython-sql) (0.7.2)\n",
      "Requirement already satisfied: sqlalchemy>=0.6.7 in c:\\users\\khushboo kodwani\\anaconda3\\lib\\site-packages (from ipython-sql) (1.4.22)\n",
      "Requirement already satisfied: six in c:\\users\\khushboo kodwani\\anaconda3\\lib\\site-packages (from ipython-sql) (1.16.0)\n",
      "Requirement already satisfied: ipython>=1.0 in c:\\users\\khushboo kodwani\\anaconda3\\lib\\site-packages (from ipython-sql) (7.29.0)\n",
      "Requirement already satisfied: sqlparse in c:\\users\\khushboo kodwani\\anaconda3\\lib\\site-packages (from ipython-sql) (0.4.2)\n",
      "Requirement already satisfied: ipython-genutils>=0.1.0 in c:\\users\\khushboo kodwani\\anaconda3\\lib\\site-packages (from ipython-sql) (0.2.0)\n",
      "Requirement already satisfied: setuptools>=18.5 in c:\\users\\khushboo kodwani\\anaconda3\\lib\\site-packages (from ipython>=1.0->ipython-sql) (58.0.4)\n",
      "Requirement already satisfied: traitlets>=4.2 in c:\\users\\khushboo kodwani\\anaconda3\\lib\\site-packages (from ipython>=1.0->ipython-sql) (5.1.0)\n",
      "Requirement already satisfied: pickleshare in c:\\users\\khushboo kodwani\\anaconda3\\lib\\site-packages (from ipython>=1.0->ipython-sql) (0.7.5)\n",
      "Requirement already satisfied: pygments in c:\\users\\khushboo kodwani\\anaconda3\\lib\\site-packages (from ipython>=1.0->ipython-sql) (2.10.0)\n",
      "Requirement already satisfied: matplotlib-inline in c:\\users\\khushboo kodwani\\anaconda3\\lib\\site-packages (from ipython>=1.0->ipython-sql) (0.1.2)\n",
      "Requirement already satisfied: colorama in c:\\users\\khushboo kodwani\\anaconda3\\lib\\site-packages (from ipython>=1.0->ipython-sql) (0.4.4)\n",
      "Requirement already satisfied: backcall in c:\\users\\khushboo kodwani\\anaconda3\\lib\\site-packages (from ipython>=1.0->ipython-sql) (0.2.0)\n",
      "Requirement already satisfied: prompt-toolkit!=3.0.0,!=3.0.1,<3.1.0,>=2.0.0 in c:\\users\\khushboo kodwani\\anaconda3\\lib\\site-packages (from ipython>=1.0->ipython-sql) (3.0.20)\n",
      "Requirement already satisfied: jedi>=0.16 in c:\\users\\khushboo kodwani\\anaconda3\\lib\\site-packages (from ipython>=1.0->ipython-sql) (0.18.0)\n",
      "Requirement already satisfied: decorator in c:\\users\\khushboo kodwani\\anaconda3\\lib\\site-packages (from ipython>=1.0->ipython-sql) (5.1.0)\n",
      "Requirement already satisfied: parso<0.9.0,>=0.8.0 in c:\\users\\khushboo kodwani\\anaconda3\\lib\\site-packages (from jedi>=0.16->ipython>=1.0->ipython-sql) (0.8.2)\n",
      "Requirement already satisfied: wcwidth in c:\\users\\khushboo kodwani\\anaconda3\\lib\\site-packages (from prompt-toolkit!=3.0.0,!=3.0.1,<3.1.0,>=2.0.0->ipython>=1.0->ipython-sql) (0.2.5)\n",
      "Requirement already satisfied: greenlet!=0.4.17 in c:\\users\\khushboo kodwani\\anaconda3\\lib\\site-packages (from sqlalchemy>=0.6.7->ipython-sql) (1.1.1)\n"
     ]
    }
   ],
   "source": [
    "!pip install ipython-sql"
   ]
  },
  {
   "cell_type": "code",
   "execution_count": 172,
   "id": "989d251e",
   "metadata": {},
   "outputs": [
    {
     "data": {
      "text/plain": [
       "<sqlite3.Cursor at 0x19219869dc0>"
      ]
     },
     "execution_count": 172,
     "metadata": {},
     "output_type": "execute_result"
    }
   ],
   "source": [
    "import sqlite3\n",
    "con = sqlite3.connect('web.db')\n",
    "cur = con.cursor()\n",
    "cur.execute(\"CREATE TABLE Weather (City text, Country text, Season text,Temperature float,Rainfall float)\")\n"
   ]
  },
  {
   "cell_type": "code",
   "execution_count": 180,
   "id": "ca5ac6fe",
   "metadata": {},
   "outputs": [
    {
     "data": {
      "text/plain": [
       "[('Mumbai', 'India', 'Winter', 24.8, 5.9)]"
      ]
     },
     "execution_count": 180,
     "metadata": {},
     "output_type": "execute_result"
    }
   ],
   "source": [
    "cur.execute('SELECT * FROM Weather')\n",
    "cur.fetchall()\n"
   ]
  },
  {
   "cell_type": "code",
   "execution_count": 179,
   "id": "c75f041f",
   "metadata": {},
   "outputs": [
    {
     "data": {
      "text/plain": [
       "<sqlite3.Cursor at 0x19219869dc0>"
      ]
     },
     "execution_count": 179,
     "metadata": {},
     "output_type": "execute_result"
    }
   ],
   "source": [
    "cur.execute(\"INSERT INTO Weather VALUES ('Mumbai', 'India', 'Winter',24.8,5.9)\")"
   ]
  },
  {
   "cell_type": "code",
   "execution_count": 181,
   "id": "2251d2da",
   "metadata": {},
   "outputs": [
    {
     "data": {
      "text/plain": [
       "<sqlite3.Cursor at 0x19219869dc0>"
      ]
     },
     "execution_count": 181,
     "metadata": {},
     "output_type": "execute_result"
    }
   ],
   "source": [
    "cur.execute(\"INSERT INTO Weather VALUES ('Mumbai', 'India', 'Spring',28.4,16.2)\")\n",
    "\n",
    "cur.execute(\"INSERT INTO Weather VALUES ('Mumbai', 'India', 'Summer',27.9,1549.4)\")\n",
    "\n",
    "cur.execute(\"INSERT INTO Weather VALUES ('Mumbai', 'India', 'Fall',27.6,346.0)\")\n",
    "\n",
    "cur.execute(\"INSERT INTO Weather VALUES ('London', 'United Kingdom', 'Winter',4.2,207.7)\")\n",
    "\n",
    "cur.execute(\"INSERT INTO Weather VALUES ('London', 'United Kingdom', 'Spring',8.3,169.6)\")\n",
    "\n",
    "cur.execute(\"INSERT INTO Weather VALUES ('London', 'United Kingdom', 'Summer',15.7,157.0)\")\n",
    "\n",
    "cur.execute(\"INSERT INTO Weather VALUES ('London', 'United Kingdom', 'Fall',10.4,218.5)\")\n",
    "\n",
    "cur.execute(\"INSERT INTO Weather VALUES ('Cairo', 'Egypt', 'Winter',13.6,16.5)\")\n",
    "\n",
    "cur.execute(\"INSERT INTO Weather VALUES ('Cairo', 'Egypt', 'Spring',20.7,6.5)\")\n",
    "\n",
    "cur.execute(\"INSERT INTO Weather VALUES ('Cairo', 'Egypt', 'Summer',27.7,0.1)\")\n",
    "\n",
    "cur.execute(\"INSERT INTO Weather VALUES ('Cairo', 'Egypt', 'Fall',22.2,4.5)\")"
   ]
  },
  {
   "cell_type": "code",
   "execution_count": 182,
   "id": "4760abeb",
   "metadata": {},
   "outputs": [
    {
     "data": {
      "text/plain": [
       "[(24.8,),\n",
       " (28.4,),\n",
       " (27.9,),\n",
       " (27.6,),\n",
       " (4.2,),\n",
       " (8.3,),\n",
       " (15.7,),\n",
       " (10.4,),\n",
       " (13.6,),\n",
       " (20.7,),\n",
       " (27.7,),\n",
       " (22.2,)]"
      ]
     },
     "execution_count": 182,
     "metadata": {},
     "output_type": "execute_result"
    }
   ],
   "source": [
    "# -----------------------------------------a) All the temperature data.-----------------------------------------------------\n",
    "\n",
    "cur.execute('SELECT Temperature FROM Weather')\n",
    "cur.fetchall()"
   ]
  },
  {
   "cell_type": "code",
   "execution_count": 183,
   "id": "7cde731d",
   "metadata": {},
   "outputs": [
    {
     "data": {
      "text/plain": [
       "[('Mumbai',), ('London',), ('Cairo',)]"
      ]
     },
     "execution_count": 183,
     "metadata": {},
     "output_type": "execute_result"
    }
   ],
   "source": [
    "# ------------------------------b) All the cities, but without repetition.-------------------------------------------\n",
    "cur.execute('SELECT distinct(City) FROM Weather')\n",
    "cur.fetchall()"
   ]
  },
  {
   "cell_type": "code",
   "execution_count": 185,
   "id": "f3a1dd88",
   "metadata": {},
   "outputs": [
    {
     "data": {
      "text/plain": [
       "[('Mumbai', 'India', 'Winter', 24.8, 5.9),\n",
       " ('Mumbai', 'India', 'Spring', 28.4, 16.2),\n",
       " ('Mumbai', 'India', 'Summer', 27.9, 1549.4),\n",
       " ('Mumbai', 'India', 'Fall', 27.6, 346.0)]"
      ]
     },
     "execution_count": 185,
     "metadata": {},
     "output_type": "execute_result"
    }
   ],
   "source": [
    "# -------------------------------c) All the records for India.-------------------------------------------------------\n",
    "city = 'India'\n",
    "cur.execute(\"SELECT * FROM Weather WHERE Country = ?\",(city,))\n",
    "cur.fetchall()"
   ]
  },
  {
   "cell_type": "code",
   "execution_count": 186,
   "id": "85f3fe8b",
   "metadata": {},
   "outputs": [
    {
     "data": {
      "text/plain": [
       "[('Mumbai', 'India', 'Fall', 27.6, 346.0),\n",
       " ('London', 'United Kingdom', 'Fall', 10.4, 218.5),\n",
       " ('Cairo', 'Egypt', 'Fall', 22.2, 4.5)]"
      ]
     },
     "execution_count": 186,
     "metadata": {},
     "output_type": "execute_result"
    }
   ],
   "source": [
    "# -----------------------------------d) All the Fall records.----------------------------------------------------------\n",
    "season = 'Fall'\n",
    "cur.execute(\"SELECT * FROM Weather WHERE Season = ?\",(season,))\n",
    "cur.fetchall()"
   ]
  },
  {
   "cell_type": "code",
   "execution_count": 188,
   "id": "987750f1",
   "metadata": {},
   "outputs": [
    {
     "data": {
      "text/plain": [
       "[('Mumbai', 'India', 'Fall'),\n",
       " ('London', 'United Kingdom', 'Winter'),\n",
       " ('London', 'United Kingdom', 'Fall')]"
      ]
     },
     "execution_count": 188,
     "metadata": {},
     "output_type": "execute_result"
    }
   ],
   "source": [
    "# --------e) The city, country, and season for which the average rainfall is between 200 and 400 millimeters.---------------\n",
    "cur.execute(\"SELECT City,Country,Season FROM Weather WHERE Rainfall BETWEEN 200 AND 400\")\n",
    "cur.fetchall()\n"
   ]
  },
  {
   "cell_type": "code",
   "execution_count": 191,
   "id": "d2064140",
   "metadata": {},
   "outputs": [
    {
     "data": {
      "text/plain": [
       "[('Mumbai', 'India'), ('Cairo', 'Egypt')]"
      ]
     },
     "execution_count": 191,
     "metadata": {},
     "output_type": "execute_result"
    }
   ],
   "source": [
    "# ----f) The city and country for which the average Fall temperature is above 20 degrees, in increasing temperature order.---\n",
    "season = 'Fall'\n",
    "cur.execute(\"SELECT City,Country FROM Weather WHERE Season = ? and Temperature > 20 order by Temperature desc\",(season,))\n",
    "cur.fetchall()"
   ]
  },
  {
   "cell_type": "code",
   "execution_count": 192,
   "id": "26e0636e",
   "metadata": {},
   "outputs": [
    {
     "data": {
      "text/plain": [
       "[(27.6,)]"
      ]
     },
     "execution_count": 192,
     "metadata": {},
     "output_type": "execute_result"
    }
   ],
   "source": [
    "# ---------------------------------------g) The total annual rainfall for Cairo.----------------------------------------------\n",
    "city = 'Cairo'\n",
    "cur.execute(\"SELECT SUM(Rainfall) FROM Weather WHERE City = ?\",(city,))\n",
    "cur.fetchall()"
   ]
  },
  {
   "cell_type": "code",
   "execution_count": 193,
   "id": "755db149",
   "metadata": {},
   "outputs": [
    {
     "data": {
      "text/plain": [
       "[('Fall', 569.0),\n",
       " ('Spring', 192.29999999999998),\n",
       " ('Summer', 1706.5),\n",
       " ('Winter', 230.1)]"
      ]
     },
     "execution_count": 193,
     "metadata": {},
     "output_type": "execute_result"
    }
   ],
   "source": [
    "# ---------------------------------------h) The total rainfall for each season.------------------------------------------------\n",
    "cur.execute(\"SELECT Season,SUM(Rainfall) FROM Weather group by Season\")\n",
    "cur.fetchall()"
   ]
  },
  {
   "cell_type": "code",
   "execution_count": null,
   "id": "18836c75",
   "metadata": {},
   "outputs": [],
   "source": [
    "# ----------------------------------------------------Question 9-----------------------------------------------------\n",
    ". Suppose list words is defined as follows:\n",
    ">>> words = ['The', 'quick', 'brown', 'fox', 'jumps', 'over',\n",
    "'the', 'lazy', 'dog']\n",
    "Write list comprehension expressions that use list words and generate the following\n",
    "lists:\n",
    "a) ['THE', 'QUICK', 'BROWN', 'FOX', 'JUMPS', 'OVER', 'THE',\n",
    "'LAZY', 'DOG']\n",
    "b) ['the', 'quick', 'brown', 'fox', 'jumps', 'over', 'the',\n",
    "'lazy', 'dog']\n",
    "c) [3, 5, 5, 3, 5, 4, 3, 4, 3] (the list of lengths of words in list\n",
    "words).\n",
    "d) [['THE', 'the', 3], ['QUICK', 'quick', 5], ['BROWN',\n",
    "'brown', 5], ['FOX', 'fox', 3], ['JUMPS', 'jumps', 5],\n",
    "['OVER', 'over', 4], ['THE', 'the', 3], ['LAZY', 'lazy',\n",
    "4], ['DOG', 'dog', 3]] (the list containing a list for every word of list\n",
    "words, where each list contains the word in uppercase and lowercase and the\n",
    "length of the word.)\n",
    "e) ['The', 'quick', 'brown', 'fox', 'jumps', 'over', 'the',\n",
    "'lazy', 'dog'] (the list of words in list words containing 4 or more\n",
    "characters.)"
   ]
  },
  {
   "cell_type": "code",
   "execution_count": 146,
   "id": "4ff194d7",
   "metadata": {},
   "outputs": [
    {
     "name": "stdout",
     "output_type": "stream",
     "text": [
      "['THE', 'QUICK', 'BROWN', 'FOX', 'JUMPS', 'OVER', 'THE', 'LAZY', 'DOG']\n"
     ]
    }
   ],
   "source": [
    "words = ['The', 'quick', 'brown', 'fox', 'jumps', 'over',\n",
    "'the', 'lazy', 'dog']\n",
    "newlist = []\n",
    "for i in range(len(words)):\n",
    "    newlist = [x.upper() for x in words]\n",
    "    \n",
    "print(newlist)"
   ]
  },
  {
   "cell_type": "code",
   "execution_count": 147,
   "id": "686f22a3",
   "metadata": {},
   "outputs": [
    {
     "name": "stdout",
     "output_type": "stream",
     "text": [
      "['the', 'quick', 'brown', 'fox', 'jumps', 'over', 'the', 'lazy', 'dog']\n"
     ]
    }
   ],
   "source": [
    "words = ['The', 'quick', 'brown', 'fox', 'jumps', 'over',\n",
    "'the', 'lazy', 'dog']\n",
    "newlist = []\n",
    "for i in range(len(words)):\n",
    "    newlist = [x.lower() for x in words]\n",
    "    \n",
    "print(newlist)"
   ]
  },
  {
   "cell_type": "code",
   "execution_count": 148,
   "id": "afda8197",
   "metadata": {},
   "outputs": [
    {
     "name": "stdout",
     "output_type": "stream",
     "text": [
      "[3, 5, 5, 3, 5, 4, 3, 4, 3]\n"
     ]
    }
   ],
   "source": [
    "words = ['The', 'quick', 'brown', 'fox', 'jumps', 'over',\n",
    "'the', 'lazy', 'dog']\n",
    "newlist = []\n",
    "for i in words:\n",
    "    newlist.append(len(i))\n",
    "    \n",
    "print(newlist)"
   ]
  },
  {
   "cell_type": "code",
   "execution_count": 154,
   "id": "ee717df7",
   "metadata": {},
   "outputs": [
    {
     "name": "stdout",
     "output_type": "stream",
     "text": [
      "[['THE', 'the', 3], ['QUICK', 'quick', 5], ['BROWN', 'brown', 5], ['FOX', 'fox', 3], ['JUMPS', 'jumps', 5], ['OVER', 'over', 4], ['THE', 'the', 3], ['LAZY', 'lazy', 4], ['DOG', 'dog', 3]]\n"
     ]
    }
   ],
   "source": [
    "words = ['The', 'quick', 'brown', 'fox', 'jumps', 'over',\n",
    "'the', 'lazy', 'dog']\n",
    "for i in words:\n",
    "    newlist = [[i.upper(),i.lower(),len(i)] for i in words]\n",
    "print(newlist)"
   ]
  },
  {
   "cell_type": "code",
   "execution_count": 159,
   "id": "b203fa47",
   "metadata": {},
   "outputs": [
    {
     "name": "stdout",
     "output_type": "stream",
     "text": [
      "['quick', 'brown', 'jumps']\n"
     ]
    }
   ],
   "source": [
    "words = ['The', 'quick', 'brown', 'fox', 'jumps', 'over',\n",
    "'the', 'lazy', 'dog']\n",
    "newlist = []\n",
    "for i in range(len(words)):\n",
    "    newlist = [x for x in words if len(x) > 4]\n",
    "print(newlist)"
   ]
  },
  {
   "cell_type": "code",
   "execution_count": null,
   "id": "744ad368",
   "metadata": {},
   "outputs": [],
   "source": []
  }
 ],
 "metadata": {
  "kernelspec": {
   "display_name": "Python 3 (ipykernel)",
   "language": "python",
   "name": "python3"
  },
  "language_info": {
   "codemirror_mode": {
    "name": "ipython",
    "version": 3
   },
   "file_extension": ".py",
   "mimetype": "text/x-python",
   "name": "python",
   "nbconvert_exporter": "python",
   "pygments_lexer": "ipython3",
   "version": "3.9.7"
  }
 },
 "nbformat": 4,
 "nbformat_minor": 5
}
